{
 "cells": [
  {
   "cell_type": "code",
   "execution_count": 35,
   "metadata": {},
   "outputs": [],
   "source": [
    "import numpy as np\n",
    "import collections\n",
    "\n",
    "#Part 1\n",
    "def doc_vocab(documents):\n",
    "    \"\"\"Creates a dictionary of all words and assigns a unique index to each word in the collection\"\"\"\n",
    "    doc_vocab = {}\n",
    "    wordSet = set()\n",
    "    #Gets the set of unique words across all documents\n",
    "    for document in documents:\n",
    "        words = document.split()\n",
    "        wordSet = wordSet.union(set(words))\n",
    "    #Assigns a unique index to each word in the wordSet\n",
    "    i = 0\n",
    "    for word in wordSet:\n",
    "        doc_vocab[word] = i\n",
    "        i += 1\n",
    "    return doc_vocab\n",
    "               "
   ]
  },
  {
   "cell_type": "code",
   "execution_count": 53,
   "metadata": {
    "collapsed": true
   },
   "outputs": [],
   "source": [
    "#Part 2\n",
    "def doc_term_matrix(vocab, documents):\n",
    "    \"\"\"Goes through each document and creates an array with the values of each word in the document indexed by vocab\"\"\"\n",
    "    cols = len(vocab)\n",
    "    #Initialize empty matrix\n",
    "    doc_term_matrix = []\n",
    "    #Go through each document. Split into words. Get the wordFreq count. \n",
    "    for document in documents:\n",
    "        words = document.split()\n",
    "        wordFreq = collections.Counter(words)\n",
    "        #Initialize a temp empty array of zeroes\n",
    "        temp = np.zeros(cols)\n",
    "        #Fill in the empty array with the number of times a word appears in the document \n",
    "        #The words are indexed by the order in the vocab dictionary\n",
    "        for key,value in wordFreq.items():\n",
    "            index = vocab[key]\n",
    "            temp[index] = value\n",
    "        #Append the temp array to the document term matrix\n",
    "        doc_term_matrix.append(temp)\n",
    "    #Convert the doc_term_matrix from list into array and return it\n",
    "    doc_term_matrix = np.array(doc_term_matrix)\n",
    "    return doc_term_matrix\n",
    "            \n",
    "   "
   ]
  },
  {
   "cell_type": "code",
   "execution_count": 55,
   "metadata": {
    "collapsed": true
   },
   "outputs": [],
   "source": [
    "#Part 3\n",
    "def tf_matrix(document_term_matrix):\n",
    "    \"\"\"Divides all values in DTM by the number of terms in document\"\"\"\n",
    "    cols = len(document_term_matrix[0])\n",
    "    tf_matrix = document_term_matrix/cols\n",
    "    return tf_matrix"
   ]
  },
  {
   "cell_type": "code",
   "execution_count": 86,
   "metadata": {
    "collapsed": true
   },
   "outputs": [],
   "source": [
    "#Part 4\n",
    "def tf_idf_matrix(document_term_matrix, tf_matrix):\n",
    "    \"\"\"First calculates the IDF of the terms, and then calculates the tf_idf matrix\"\"\"\n",
    "    total_docs = len(document_term_matrix)\n",
    "    #Create a boolean array for where values !=0 in the dtm. This lets us know if a term appears in a document or not\n",
    "    #We sum the true values over the columns, so we know for each term, how many documents it appeared in\n",
    "    \n",
    "    booleanArray = (document_term_matrix != 0)\n",
    "    idf = np.sum(booleanArray, axis = 0)\n",
    "    \n",
    "    #Once we have the number of documents that contain each term we calculate the idf\n",
    "    idf = np.log10(total_docs/idf)\n",
    "    \n",
    "    #Once we have the idf, we calculate tf_idf\n",
    "    tf_idf = tf_matrix * idf\n",
    "    return tf_idf"
   ]
  },
  {
   "cell_type": "code",
   "execution_count": 87,
   "metadata": {},
   "outputs": [
    {
     "name": "stdout",
     "output_type": "stream",
     "text": [
      "Below is the Vocab\n",
      "{'He': 0, 'Jane': 1, 'than': 2, 'baseball': 3, 'basketball': 4, 'likes': 5, 'more': 6, 'loves': 7, 'Linda': 8, 'Julie': 9, 'me': 10}\n",
      "Below is the Document Term Matrix\n",
      "[[ 0.  0.  1.  0.  0.  0.  1.  2.  1.  1.  2.]\n",
      " [ 0.  1.  1.  0.  0.  1.  1.  1.  0.  1.  2.]\n",
      " [ 1.  0.  1.  1.  1.  1.  1.  0.  0.  0.  0.]]\n",
      "Below is the Term Frequency Matrix\n",
      "[[ 0.          0.          0.09090909  0.          0.          0.\n",
      "   0.09090909  0.18181818  0.09090909  0.09090909  0.18181818]\n",
      " [ 0.          0.09090909  0.09090909  0.          0.          0.09090909\n",
      "   0.09090909  0.09090909  0.          0.09090909  0.18181818]\n",
      " [ 0.09090909  0.          0.09090909  0.09090909  0.09090909  0.09090909\n",
      "   0.09090909  0.          0.          0.          0.        ]]\n",
      "Below is the TF-IDF Matrix\n",
      "[[ 0.          0.          0.          0.          0.          0.          0.\n",
      "   0.03201659  0.04337466  0.0160083   0.03201659]\n",
      " [ 0.          0.04337466  0.          0.          0.          0.0160083\n",
      "   0.          0.0160083   0.          0.0160083   0.03201659]\n",
      " [ 0.04337466  0.          0.          0.04337466  0.04337466  0.0160083\n",
      "   0.          0.          0.          0.          0.        ]]\n"
     ]
    }
   ],
   "source": [
    "#Part 5\n",
    "documents = ['Julie loves me more than Linda loves me', \n",
    "             'Jane likes me more than Julie loves me', \n",
    "             'He likes basketball more than baseball']\n",
    "vocab = doc_vocab(documents)\n",
    "dtm = doc_term_matrix(vocab,documents)\n",
    "tf = tf_matrix(dtm)\n",
    "tf_idf = tf_idf_matrix(dtm, tf)\n",
    "\n",
    "print(\"Below is the Vocab\")\n",
    "print(vocab)\n",
    "print(\"Below is the Document Term Matrix\")\n",
    "print(dtm)\n",
    "print(\"Below is the Term Frequency Matrix\")\n",
    "print(tf)\n",
    "print(\"Below is the TF-IDF Matrix\")\n",
    "print(tf_idf)"
   ]
  }
 ],
 "metadata": {
  "kernelspec": {
   "display_name": "Python 3",
   "language": "python",
   "name": "python3"
  },
  "language_info": {
   "codemirror_mode": {
    "name": "ipython",
    "version": 3
   },
   "file_extension": ".py",
   "mimetype": "text/x-python",
   "name": "python",
   "nbconvert_exporter": "python",
   "pygments_lexer": "ipython3",
   "version": "3.6.1"
  }
 },
 "nbformat": 4,
 "nbformat_minor": 2
}
